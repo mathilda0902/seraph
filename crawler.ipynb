{
 "cells": [
  {
   "cell_type": "markdown",
   "metadata": {},
   "source": [
    "# beautiful soup"
   ]
  },
  {
   "cell_type": "code",
   "execution_count": null,
   "metadata": {
    "scrolled": false
   },
   "outputs": [],
   "source": [
    "import bs4 as bs\n",
    "import urllib.request\n",
    "\n",
    "url = 'https://www.quora.com/search?q=founder&type=profile'\n"
   ]
  },
  {
   "cell_type": "code",
   "execution_count": null,
   "metadata": {},
   "outputs": [],
   "source": [
    "source = urllib.request.urlopen(url).read()"
   ]
  },
  {
   "cell_type": "code",
   "execution_count": null,
   "metadata": {},
   "outputs": [],
   "source": [
    "soup = bs.BeautifulSoup(source,'lxml')"
   ]
  },
  {
   "cell_type": "code",
   "execution_count": null,
   "metadata": {
    "scrolled": true
   },
   "outputs": [],
   "source": [
    "print(soup)"
   ]
  },
  {
   "cell_type": "markdown",
   "metadata": {},
   "source": [
    "# selenium"
   ]
  },
  {
   "cell_type": "code",
   "execution_count": 1,
   "metadata": {},
   "outputs": [],
   "source": [
    "from selenium.webdriver.common.keys import Keys\n",
    "import selenium.webdriver\n"
   ]
  },
  {
   "cell_type": "code",
   "execution_count": 34,
   "metadata": {},
   "outputs": [],
   "source": [
    "driver = selenium.webdriver.Chrome('/Users/vkwan/Dev/chromedriver')\n",
    "driver.get(\"https://www.quora.com/search?q=founder&type=profile\")"
   ]
  },
  {
   "cell_type": "code",
   "execution_count": 37,
   "metadata": {},
   "outputs": [
    {
     "data": {
      "text/plain": [
       "['CDwindow-AB9689B7DF420EDF58027966980EFA7B']"
      ]
     },
     "execution_count": 37,
     "metadata": {},
     "output_type": "execute_result"
    }
   ],
   "source": [
    "driver.window_handles"
   ]
  },
  {
   "cell_type": "code",
   "execution_count": 39,
   "metadata": {},
   "outputs": [
    {
     "data": {
      "text/plain": [
       "\"By Type\\nAll Types\\nQuestions\\nAnswers\\nPosts\\nProfiles\\nTopics\\nBlogs\\nSpaces\\nProfiles for founder\\nClear Filters\\n Profile:\\nCharlie Cheever, Quora\\nIn addition to being a founder at Quora: Palo Alto, Facebook, Amazon, Seattle, Harvard, Shady Side Academy, Pittsburgh… (more)\\nProfile:\\nMark Ferguson, Founder InvestFourMore, Real estate Investor and Broker at Blue Steel Real Estate\\n17 year real estate investor, real estate agent, best-selling author, and car lover. I have flipped more than 155 houses, and bought 20 rentals in my career. I have 19 flip...(more)\\nProfile:\\nDave Consiglio, Chemistry and Physics High School Teacher and Community College Professor\\n™ … Co-Author of: A Comedy of (Classroom) Errors … CEO and Founder of: Consiglio Devastations...… (more)\\nProfile:\\nJosh Fechter, Author | Advisor | Entrepreneur\\nI’m the co-founder of a writing software, Squibler. … I’m also the founder of Product & Growth, a community of 25,000 members. … Want my latest book on scaling growth… (more)\\nProfile:\\nKaren Marie Shelton, B.A.& M.A. & PostGrad in Sociology, Public Policy & Business\\nCEO & Founder of HairBoutique.com, one of the web's oldest and largest hair and beauty portals.… (more)\\nProfile:\\nOliver Emberton, founder of Silktide\\nEntrepreneur, author-in-training, challenge addict, dancer, pianist, programmer, artist and general busy bee. …  * I’m founder and CEO of Silktide …  * I blog… (more)\\nProfile:\\nKyle Murao,\\nFormer editor of The Elephants in the Room, founder & former editor of The Defense Quorum. I left both to start a new Space on Quora! Go check it out here: The Modern MilHist… (more)\\n Profile:\\nRand Fishkin, Founder of SparkToro, ex-Founder/CEO @ Moz\\nFounder of SparkToro. Author. Blogger. Speaker.… (more)\\nProfile:\\nJason M. Lemkin, SaaStr & SaaStr Fund; ceo/co-founder @ EchoSign (acq'd by Adobe).\\nJason M. Lemkin started the world’s largest community for SaaS/B2B founders, SaaStr.com, and the world’s largest gathering for them, SaaStr Annual 2018 | The Biggest SaaS… (more)\\n Profile:\\nGayle Laakmann McDowell, Consultant (tech hiring/interviewing), Author (Cracking the * Interview), Coder\\nGayle Laakmann McDowell is the founder/CEO of CareerCup and the author of Cracking the *interview books (Cracking the Coding Interview, Cracking the PM Interview… (more)\\nProfile:\\nPat Roberts, Top writer: 2013, 2016, 2017, 2018\\nCo-founder and CTO, UltraMedia Innovation… (more)\\n Profile:\\nDharmesh Shah, Founder and CTO, HubSpot. Blogger, OnStartups.com\\nFounder, HubSpot.  Blogger at OnStartups.com… (more)\\nProfile:\\nVaibhav Mallya, Senior Engineer, Developer Infrastructure @ Gusto\\nPast: Founder http://OfferLetter.io . Engineer @ Twitter/Amazon. … Education: University of Michigan … Hobbies: Going out of my way to pet dogs.… (more)\\n Profile:\\nSoleio, Combine\\nOnce an early designer at Facebook. Then head of design at Dropbox. Now founder & partner of Combine, a new venture firm. Wonder junkie. Forerunner.… (more)\\nProfile:\\nJohn DeMarchi, Have answered over 900 NFL questions on Quora/have attended 11 NFL Drafts.\\nHello - nice to meet YOU here.  Here's me: CEO/Founder of social media and strategy firm Social Czars in the NY-NJ area; honored and blessed to be able to participate… (more)\\n Profile:\\nBram Cohen, Inventor of BitTorrent\\nI'm the inventor of BitTorrent and founder of BitTorrent Inc.  … Since then I've created a p2p live video streaming solution and lately have been working on Bitcoin related… (more)\\nProfile:\\nMircea Goia, Web developer and web consultant. Aspiring filmmaker...\\nWeb developer and web consultant (mirceagoia.com).  … Aspiring filmmaker/advisor at Cinely.com. … Founder of RomanianStartups.com - The Romanian Internet Tech Startups Directory… (more)\\nProfile:\\nEric Mayefsky, Former Head of Data Science at Quora\\nMarket design PhD → Facebook Ads → co-founder at WeFinance → Quora Advertisements→Head of Data Science at Quora. Game theory, games, puzzle hunts, etc.… (more)\\nProfile:\\nAnne K. Halsall, CPO & co-founder of Winnie\\nCPO & co-founder of Winnie, a knowledge network for parents. Also a mother and lover of cats. … Previously: Postmates, Quora, Inkling, Google.… (more)\\nProfile:\\nCody Shirk, Explorer, Investor - codyshirk.com\\nCo-founder and partner at Explorer Equity Group. … I write this: Explorer Report. … Right now, I’m most excited about cannabis, longevity, and Asia.… (more)\\nProfile:\\nGuy D McCardle, Jr., Quora's Voice of Reason\\nPain is temporary, quitting is forever.\\nProfile:\\nVijay Anand, The Startup Guy™ | Founder CEO at The Startup Centre\\nEntrepreneur. Founder CEO at The Startup Centre (company) … You can find me active on Linkedin at http://www.linkedin.com/in/vijayanands and on twitter at @vijayanands… (more)\\nProfile:\\nTim Berry, Entrepreneur, author, angel investor, business plan expert.\\nFounder and Chairman of Palo Alto Software, founder of bplans.com. Conceptual author of software including LivePlan and Business Plan Pro; latest book published is Lean… (more)\\nProfile:\\nAvichal Garg, Co-Founder, Spool\\nCurrent life: … Spool - founder, CEO … Past lives: … PrepMe - board member, founder, CTO...… (more)\\nProfile:\\nVijay Shekhar Sharma, Starter\\nFounder & CEO One97 & Paytm,  … Investor One97 Mobility Fund… (more)\\nProfile:\\nErnest W. Adams, Game Design Consultant, Author, and Professor\\n. Dr. Adams has developed online, computer, and console games for machines from the IBM 360 mainframe to the present day. He is also the founder and first chairman… (more)\\nProfile:\\nBen Hamner, Co-founder and CTO of Kaggle\\nCo-founder & CTO Kaggle.  Seeking to understand intelligence.… (more)\\nProfile:\\nGil Eyal, Founder, HYPR\\nFounder & CEO At www.hyprbrands.com… (more)\\n Profile:\\nBret Taylor, President and Chief Product Officer of Salesforce\\nI am currently President and Chief Product Officer of Salesforce. Previously, I was co-founder and CEO of Quip, which was acquired by Salesforce in 2016. … I was formerly… (more)\\nProfile:\\nRichard Price, Founder of Academia.edu\\nFounder of Academia.edu… (more)\\nProfile:\\nNishant Jindal, AIR 247 | JEE Coach | IIT Delhi\\nJEE Coach … Kirtan at IIT Delhi Gurudwara … https://youtu.be/_Al4SVFCEQ0?t=202...… (more)\\nProfile:\\nPaul O'Brien, CEO of MediaTech Ventures | VC | Advisor | Startup CMO\\nI am passionate about the innovation of media. … I’m an author, CEO and founder of MediaTech Ventures, and Founder Institute Director. … Get to know me by way of My Vision… (more)\\n Profile:\\nHadi Partovi, CEO, Code.org. Tech entrepreneur/investor\\nI’m the co-founder of Code.org and the creator of the global Hour of Code educational campaign. My life mission is to bring the opportunity to learn computer science to every… (more)\\n Profile:\\nKevin Rose, Internet builder.\\nGeneral Partner at Google Ventures. Founder of Digg, Revision3, Milk Inc.… (more)\\n Profile:\\nJoe Gebbia, Co-founder at Airbnb\\nI am the co-founder of Airbnb.com and like designing stuff.… (more)\\nProfile:\\nNilanshi Gupta, Career Counselor for 8 Years, Still Feels like a Newcomer!\\nFounder of IAS Educator | UPSC updates & all needful material for IAS Aspirants, helping UPSC Aspirants to crack their eggshells, since 2011. Phew!… (more)\\nProfile:\\nOliver Starr, Cannabis entrepreneur, wolf expert, ex of Techcrunch\\nFounder of LandDragon Cannabis Company, freelance writer, social and mobile marketing and technology expert and wolf and wildlife activist/advocate.… (more)\\n Profile:\\nEzra Klein, Editor-in-chief, Vox.com\\nFounder of Vox.com. Policy analyst for MSNBC. Eater of food. Hater of filibuster. Lover of charts.… (more)\\nProfile:\\nRyan Hoover, Founder, Product Hunt.\\nFounder of Product Hunt. … Also at twitter.com/rrhoover.… (more)\\nWe couldn't find any more results for 'founder'.\""
      ]
     },
     "execution_count": 39,
     "metadata": {},
     "output_type": "execute_result"
    }
   ],
   "source": [
    "element = driver.find_element_by_id(\"__w2_wFrV4ViP11_content\")\n",
    "element.text"
   ]
  },
  {
   "cell_type": "code",
   "execution_count": 40,
   "metadata": {},
   "outputs": [],
   "source": [
    "# driver.quit()"
   ]
  },
  {
   "cell_type": "code",
   "execution_count": null,
   "metadata": {},
   "outputs": [],
   "source": []
  }
 ],
 "metadata": {
  "kernelspec": {
   "display_name": "Python 3",
   "language": "python",
   "name": "python3"
  },
  "language_info": {
   "codemirror_mode": {
    "name": "ipython",
    "version": 3
   },
   "file_extension": ".py",
   "mimetype": "text/x-python",
   "name": "python",
   "nbconvert_exporter": "python",
   "pygments_lexer": "ipython3",
   "version": "3.7.0"
  }
 },
 "nbformat": 4,
 "nbformat_minor": 2
}
