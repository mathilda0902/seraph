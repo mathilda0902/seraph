{
 "cells": [
  {
   "cell_type": "markdown",
   "metadata": {},
   "source": [
    "# beautiful soup"
   ]
  },
  {
   "cell_type": "code",
   "execution_count": null,
   "metadata": {
    "scrolled": false
   },
   "outputs": [],
   "source": [
    "import bs4 as bs\n",
    "import urllib.request\n",
    "\n",
    "url = 'https://www.quora.com/search?q=founder&type=profile'\n"
   ]
  },
  {
   "cell_type": "code",
   "execution_count": null,
   "metadata": {},
   "outputs": [],
   "source": [
    "source = urllib.request.urlopen(url).read()"
   ]
  },
  {
   "cell_type": "code",
   "execution_count": null,
   "metadata": {},
   "outputs": [],
   "source": [
    "soup = bs.BeautifulSoup(source,'lxml')"
   ]
  },
  {
   "cell_type": "code",
   "execution_count": null,
   "metadata": {
    "scrolled": true
   },
   "outputs": [],
   "source": [
    "print(soup)"
   ]
  },
  {
   "cell_type": "markdown",
   "metadata": {},
   "source": [
    "# selenium"
   ]
  },
  {
   "cell_type": "code",
   "execution_count": 35,
   "metadata": {},
   "outputs": [],
   "source": [
    "import json\n",
    "import re"
   ]
  },
  {
   "cell_type": "code",
   "execution_count": 1,
   "metadata": {},
   "outputs": [],
   "source": [
    "from selenium.webdriver.common.keys import Keys\n",
    "import selenium.webdriver\n"
   ]
  },
  {
   "cell_type": "code",
   "execution_count": 2,
   "metadata": {},
   "outputs": [],
   "source": [
    "driver = selenium.webdriver.Chrome('/Users/vicky/Dev/chromedriver')\n",
    "driver.get(\"https://www.quora.com/search?q=founder&type=profile\")"
   ]
  },
  {
   "cell_type": "code",
   "execution_count": 3,
   "metadata": {},
   "outputs": [
    {
     "data": {
      "text/plain": [
       "['CDwindow-56422FA9913F9961E1C031BD4662A8EF']"
      ]
     },
     "execution_count": 3,
     "metadata": {},
     "output_type": "execute_result"
    }
   ],
   "source": [
    "driver.window_handles"
   ]
  },
  {
   "cell_type": "code",
   "execution_count": 9,
   "metadata": {},
   "outputs": [],
   "source": [
    "element = driver.find_element_by_id(\"wQlpxi7926\")\n"
   ]
  },
  {
   "cell_type": "code",
   "execution_count": 8,
   "metadata": {
    "scrolled": true
   },
   "outputs": [
    {
     "data": {
      "text/plain": [
       "\"Profiles for founder\\nClear Filters\\n Profile: Charlie Cheever, Quora\\nIn addition to being a founder at Quora: Palo Alto, Facebook, Amazon, Seattle, Harvard, Shady Side Academy, Pittsburgh… (more)\\nProfile:\\nMark Ferguson, Founder InvestFourMore, Real estate Investor and Broker at Blue Steel Real Estate\\n17 year real estate investor, real estate agent, best-selling author, and car lover. I have flipped more than 155 houses, and bought 20 rentals in my career. I have 19 flip...(more)\\nProfile:\\nDave Consiglio, Chemistry and Physics High School Teacher and Community College Professor\\n™ … Co-Author of: A Comedy of (Classroom) Errors … CEO and Founder of: Consiglio Devastations...… (more)\\nProfile:\\nJosh Fechter, Author | Advisor | Entrepreneur\\nI’m the co-founder of a writing software, Squibler. … I’m also the founder of Product & Growth, a community of 25,000 members. … Want my latest book on scaling growth… (more)\\nProfile:\\nKaren Marie Shelton, B.A.& M.A. & PostGrad in Sociology, Public Policy & Business\\nCEO & Founder of HairBoutique.com, one of the web's oldest and largest hair and beauty portals.… (more)\\nProfile:\\nOliver Emberton, founder of Silktide\\nEntrepreneur, author-in-training, challenge addict, dancer, pianist, programmer, artist and general busy bee. …  * I’m founder and CEO of Silktide …  * I blog… (more)\\nProfile:\\nKyle Murao,\\nFormer editor of The Elephants in the Room, founder & former editor of The Defense Quorum. I left both to start a new Space on Quora! Go check it out here: The Modern MilHist… (more)\\n Profile:\\nRand Fishkin, Founder of SparkToro, ex-Founder/CEO @ Moz\\nFounder of SparkToro. Author. Blogger. Speaker.… (more)\\nProfile:\\nJason M. Lemkin, SaaStr & SaaStr Fund; ceo/co-founder @ EchoSign (acq'd by Adobe).\\nJason M. Lemkin started the world’s largest community for SaaS/B2B founders, SaaStr.com, and the world’s largest gathering for them, SaaStr Annual 2018 | The Biggest SaaS… (more)\\nProfile:\\nPat Roberts, Top writer: 2013, 2016, 2017, 2018\\nCo-founder and CTO, UltraMedia Innovation… (more)\\n Profile:\\nDharmesh Shah, Founder and CTO, HubSpot. Blogger, OnStartups.com\\nFounder, HubSpot.  Blogger at OnStartups.com… (more)\\nProfile:\\nVaibhav Mallya, Senior Engineer, Developer Infrastructure @ Gusto\\nPast: Founder http://OfferLetter.io . Engineer @ Twitter/Amazon. … Education: University of Michigan … Hobbies: Going out of my way to pet dogs.… (more)\\n Profile:\\nGayle Laakmann McDowell, Consultant (tech hiring/interviewing), Author (Cracking the * Interview), Coder\\nGayle Laakmann McDowell is the founder/CEO of CareerCup and the author of Cracking the *interview books (Cracking the Coding Interview, Cracking the PM Interview… (more)\\n Profile:\\nSoleio, Combine\\nOnce an early designer at Facebook. Then head of design at Dropbox. Now founder & partner of Combine, a new venture firm. Wonder junkie. Forerunner.… (more)\\nProfile:\\nJohn DeMarchi, Have answered over 900 NFL questions on Quora/have attended 11 NFL Drafts.\\nHello - nice to meet YOU here.  Here's me: CEO/Founder of social media and strategy firm Social Czars in the NY-NJ area; honored and blessed to be able to participate… (more)\\n Profile:\\nBram Cohen, Inventor of BitTorrent\\nI'm the inventor of BitTorrent and founder of BitTorrent Inc.  … Since then I've created a p2p live video streaming solution and lately have been working on Bitcoin related… (more)\\nProfile:\\nEric Mayefsky, Former Head of Data Science at Quora\\nMarket design PhD → Facebook Ads → co-founder at WeFinance → Quora Advertisements→Head of Data Science at Quora. Game theory, games, puzzle hunts, etc.… (more)\\nProfile:\\nMircea Goia, Web developer and web consultant. Aspiring filmmaker...\\nWeb developer and web consultant (mirceagoia.com).  … Aspiring filmmaker/advisor at Cinely.com. … Founder of RomanianStartups.com - The Romanian Internet Tech Startups Directory… (more)\\nProfile:\\nAnne K. Halsall, CPO & co-founder of Winnie\\nCPO & co-founder of Winnie, a knowledge network for parents. Also a mother and lover of cats. … Previously: Postmates, Quora, Inkling, Google.… (more)\\nProfile:\\nCody Shirk, Explorer, Investor - codyshirk.com\\nCo-founder and partner at Explorer Equity Group. … I write this: Explorer Report. … Right now, I’m most excited about cannabis, longevity, and Asia.… (more)\\nProfile:\\nGuy D McCardle, Jr., Quora's Voice of Reason\\nPain is temporary, quitting is forever.\\nProfile:\\nVijay Anand, The Startup Guy™ | Founder CEO at The Startup Centre\\nEntrepreneur. Founder CEO at The Startup Centre (company) … You can find me active on Linkedin at http://www.linkedin.com/in/vijayanands and on twitter at @vijayanands… (more)\\nProfile:\\nTim Berry, Entrepreneur, author, angel investor, business plan expert.\\nFounder and Chairman of Palo Alto Software, founder of bplans.com. Conceptual author of software including LivePlan and Business Plan Pro; latest book published is Lean… (more)\\nProfile:\\nAvichal Garg, Co-Founder, Spool\\nCurrent life: … Spool - founder, CEO … Past lives: … PrepMe - board member, founder, CTO...… (more)\\nProfile:\\nVijay Shekhar Sharma, Starter\\nFounder & CEO One97 & Paytm,  … Investor One97 Mobility Fund… (more)\\nProfile:\\nErnest W. Adams, Game Design Consultant, Author, and Professor\\n. Dr. Adams has developed online, computer, and console games for machines from the IBM 360 mainframe to the present day. He is also the founder and first chairman… (more)\\nProfile:\\nBen Hamner, Co-founder and CTO of Kaggle\\nCo-founder & CTO Kaggle.  Seeking to understand intelligence.… (more)\\nProfile:\\nGil Eyal, Founder, HYPR\\nFounder & CEO At www.hyprbrands.com… (more)\\n Profile:\\nBret Taylor, President and Chief Product Officer of Salesforce\\nI am currently President and Chief Product Officer of Salesforce. Previously, I was co-founder and CEO of Quip, which was acquired by Salesforce in 2016. … I was formerly… (more)\""
      ]
     },
     "execution_count": 8,
     "metadata": {},
     "output_type": "execute_result"
    }
   ],
   "source": [
    "element.text"
   ]
  },
  {
   "cell_type": "code",
   "execution_count": 19,
   "metadata": {},
   "outputs": [],
   "source": [
    "query_list = element.text.split(\"Profile:\")"
   ]
  },
  {
   "cell_type": "code",
   "execution_count": 26,
   "metadata": {
    "scrolled": true
   },
   "outputs": [
    {
     "data": {
      "text/plain": [
       "['Profiles for founder\\nClear Filters\\n ',\n",
       " ' Charlie Cheever, Quora\\nIn addition to being a founder at Quora: Palo Alto, Facebook, Amazon, Seattle, Harvard, Shady Side Academy, Pittsburgh… (more)\\n',\n",
       " '\\nMark Ferguson, Founder InvestFourMore, Real estate Investor and Broker at Blue Steel Real Estate\\n17 year real estate investor, real estate agent, best-selling author, and car lover. I have flipped more than 155 houses, and bought 20 rentals in my career. I have 19 flip...(more)\\n',\n",
       " '\\nDave Consiglio, Chemistry and Physics High School Teacher and Community College Professor\\n™ … Co-Author of: A Comedy of (Classroom) Errors … CEO and Founder of: Consiglio Devastations...… (more)\\n',\n",
       " '\\nJosh Fechter, Author | Advisor | Entrepreneur\\nI’m the co-founder of a writing software, Squibler. … I’m also the founder of Product & Growth, a community of 25,000 members. … Want my latest book on scaling growth… (more)\\n',\n",
       " \"\\nKaren Marie Shelton, B.A.& M.A. & PostGrad in Sociology, Public Policy & Business\\nCEO & Founder of HairBoutique.com, one of the web's oldest and largest hair and beauty portals.… (more)\\n\",\n",
       " '\\nOliver Emberton, founder of Silktide\\nEntrepreneur, author-in-training, challenge addict, dancer, pianist, programmer, artist and general busy bee. …  * I’m founder and CEO of Silktide …  * I blog… (more)\\n',\n",
       " '\\nKyle Murao,\\nFormer editor of The Elephants in the Room, founder & former editor of The Defense Quorum. I left both to start a new Space on Quora! Go check it out here: The Modern MilHist… (more)\\n ',\n",
       " '\\nRand Fishkin, Founder of SparkToro, ex-Founder/CEO @ Moz\\nFounder of SparkToro. Author. Blogger. Speaker.… (more)\\n',\n",
       " \"\\nJason M. Lemkin, SaaStr & SaaStr Fund; ceo/co-founder @ EchoSign (acq'd by Adobe).\\nJason M. Lemkin started the world’s largest community for SaaS/B2B founders, SaaStr.com, and the world’s largest gathering for them, SaaStr Annual 2018 | The Biggest SaaS… (more)\\n\",\n",
       " '\\nPat Roberts, Top writer: 2013, 2016, 2017, 2018\\nCo-founder and CTO, UltraMedia Innovation… (more)\\n ',\n",
       " '\\nDharmesh Shah, Founder and CTO, HubSpot. Blogger, OnStartups.com\\nFounder, HubSpot.  Blogger at OnStartups.com… (more)\\n',\n",
       " '\\nVaibhav Mallya, Senior Engineer, Developer Infrastructure @ Gusto\\nPast: Founder http://OfferLetter.io . Engineer @ Twitter/Amazon. … Education: University of Michigan … Hobbies: Going out of my way to pet dogs.… (more)\\n ',\n",
       " '\\nGayle Laakmann McDowell, Consultant (tech hiring/interviewing), Author (Cracking the * Interview), Coder\\nGayle Laakmann McDowell is the founder/CEO of CareerCup and the author of Cracking the *interview books (Cracking the Coding Interview, Cracking the PM Interview… (more)\\n ',\n",
       " '\\nSoleio, Combine\\nOnce an early designer at Facebook. Then head of design at Dropbox. Now founder & partner of Combine, a new venture firm. Wonder junkie. Forerunner.… (more)\\n',\n",
       " \"\\nJohn DeMarchi, Have answered over 900 NFL questions on Quora/have attended 11 NFL Drafts.\\nHello - nice to meet YOU here.  Here's me: CEO/Founder of social media and strategy firm Social Czars in the NY-NJ area; honored and blessed to be able to participate… (more)\\n \",\n",
       " \"\\nBram Cohen, Inventor of BitTorrent\\nI'm the inventor of BitTorrent and founder of BitTorrent Inc.  … Since then I've created a p2p live video streaming solution and lately have been working on Bitcoin related… (more)\\n\",\n",
       " '\\nEric Mayefsky, Former Head of Data Science at Quora\\nMarket design PhD → Facebook Ads → co-founder at WeFinance → Quora Advertisements→Head of Data Science at Quora. Game theory, games, puzzle hunts, etc.… (more)\\n',\n",
       " '\\nMircea Goia, Web developer and web consultant. Aspiring filmmaker...\\nWeb developer and web consultant (mirceagoia.com).  … Aspiring filmmaker/advisor at Cinely.com. … Founder of RomanianStartups.com - The Romanian Internet Tech Startups Directory… (more)\\n',\n",
       " '\\nAnne K. Halsall, CPO & co-founder of Winnie\\nCPO & co-founder of Winnie, a knowledge network for parents. Also a mother and lover of cats. … Previously: Postmates, Quora, Inkling, Google.… (more)\\n',\n",
       " '\\nCody Shirk, Explorer, Investor - codyshirk.com\\nCo-founder and partner at Explorer Equity Group. … I write this: Explorer Report. … Right now, I’m most excited about cannabis, longevity, and Asia.… (more)\\n',\n",
       " \"\\nGuy D McCardle, Jr., Quora's Voice of Reason\\nPain is temporary, quitting is forever.\\n\",\n",
       " '\\nVijay Anand, The Startup Guy™ | Founder CEO at The Startup Centre\\nEntrepreneur. Founder CEO at The Startup Centre (company) … You can find me active on Linkedin at http://www.linkedin.com/in/vijayanands and on twitter at @vijayanands… (more)\\n',\n",
       " '\\nTim Berry, Entrepreneur, author, angel investor, business plan expert.\\nFounder and Chairman of Palo Alto Software, founder of bplans.com. Conceptual author of software including LivePlan and Business Plan Pro; latest book published is Lean… (more)\\n',\n",
       " '\\nAvichal Garg, Co-Founder, Spool\\nCurrent life: … Spool - founder, CEO … Past lives: … PrepMe - board member, founder, CTO...… (more)\\n',\n",
       " '\\nVijay Shekhar Sharma, Starter\\nFounder & CEO One97 & Paytm,  … Investor One97 Mobility Fund… (more)\\n',\n",
       " '\\nErnest W. Adams, Game Design Consultant, Author, and Professor\\n. Dr. Adams has developed online, computer, and console games for machines from the IBM 360 mainframe to the present day. He is also the founder and first chairman… (more)\\n',\n",
       " '\\nBen Hamner, Co-founder and CTO of Kaggle\\nCo-founder & CTO Kaggle.  Seeking to understand intelligence.… (more)\\n',\n",
       " '\\nGil Eyal, Founder, HYPR\\nFounder & CEO At www.hyprbrands.com… (more)\\n ',\n",
       " '\\nBret Taylor, President and Chief Product Officer of Salesforce\\nI am currently President and Chief Product Officer of Salesforce. Previously, I was co-founder and CEO of Quip, which was acquired by Salesforce in 2016. … I was formerly… (more)']"
      ]
     },
     "execution_count": 26,
     "metadata": {},
     "output_type": "execute_result"
    }
   ],
   "source": [
    "query_list"
   ]
  },
  {
   "cell_type": "code",
   "execution_count": 253,
   "metadata": {},
   "outputs": [],
   "source": [
    "def get_company(company_string):\n",
    "\n",
    "    for index, word in enumerate(company_string):\n",
    "        if word == 'Founder':\n",
    "            company = ' '.join(company_string[index:])\n",
    "            \n",
    "            if '.' in company:\n",
    "                stop_pos = [m.start(0) for m in re.finditer(r'\\.', company)][0]\n",
    "            else:\n",
    "                stop_pos = len(company)  \n",
    "            \n",
    "            return company[:start_pos]\n"
   ]
  },
  {
   "cell_type": "code",
   "execution_count": 236,
   "metadata": {},
   "outputs": [
    {
     "data": {
      "text/plain": [
       "'Bret Taylor'"
      ]
     },
     "execution_count": 236,
     "metadata": {},
     "output_type": "execute_result"
    }
   ],
   "source": [
    "name_com[0]"
   ]
  },
  {
   "cell_type": "code",
   "execution_count": 252,
   "metadata": {
    "scrolled": true
   },
   "outputs": [
    {
     "data": {
      "text/plain": [
       "'Founder of: Consiglio Devastations'"
      ]
     },
     "execution_count": 252,
     "metadata": {},
     "output_type": "execute_result"
    }
   ],
   "source": [
    "get_company(company_string)"
   ]
  },
  {
   "cell_type": "code",
   "execution_count": 250,
   "metadata": {
    "scrolled": true
   },
   "outputs": [
    {
     "data": {
      "text/plain": [
       "['Chemistry',\n",
       " 'and',\n",
       " 'Physics',\n",
       " 'High',\n",
       " 'School',\n",
       " 'Teacher',\n",
       " 'and',\n",
       " 'Community',\n",
       " 'College',\n",
       " 'Professor™',\n",
       " '…',\n",
       " 'Co-Author',\n",
       " 'of:',\n",
       " 'A',\n",
       " 'Comedy',\n",
       " 'of',\n",
       " '(Classroom)',\n",
       " 'Errors',\n",
       " '…',\n",
       " 'CEO',\n",
       " 'and',\n",
       " 'Founder',\n",
       " 'of:',\n",
       " 'Consiglio',\n",
       " 'Devastations...…',\n",
       " '(more)']"
      ]
     },
     "execution_count": 250,
     "metadata": {},
     "output_type": "execute_result"
    }
   ],
   "source": [
    "company_string"
   ]
  },
  {
   "cell_type": "code",
   "execution_count": 260,
   "metadata": {},
   "outputs": [
    {
     "data": {
      "text/plain": [
       "['Profiles for founder\\nClear Filters\\n ',\n",
       " ' Charlie Cheever, Quora\\nIn addition to being a founder at Quora: Palo Alto, Facebook, Amazon, Seattle, Harvard, Shady Side Academy, Pittsburgh… (more)\\n',\n",
       " '\\nMark Ferguson, Founder InvestFourMore, Real estate Investor and Broker at Blue Steel Real Estate\\n17 year real estate investor, real estate agent, best-selling author, and car lover. I have flipped more than 155 houses, and bought 20 rentals in my career. I have 19 flip...(more)\\n',\n",
       " '\\nDave Consiglio, Chemistry and Physics High School Teacher and Community College Professor\\n™ … Co-Author of: A Comedy of (Classroom) Errors … CEO and Founder of: Consiglio Devastations...… (more)\\n',\n",
       " '\\nJosh Fechter, Author | Advisor | Entrepreneur\\nI’m the co-founder of a writing software, Squibler. … I’m also the founder of Product & Growth, a community of 25,000 members. … Want my latest book on scaling growth… (more)\\n',\n",
       " \"\\nKaren Marie Shelton, B.A.& M.A. & PostGrad in Sociology, Public Policy & Business\\nCEO & Founder of HairBoutique.com, one of the web's oldest and largest hair and beauty portals.… (more)\\n\",\n",
       " '\\nOliver Emberton, founder of Silktide\\nEntrepreneur, author-in-training, challenge addict, dancer, pianist, programmer, artist and general busy bee. …  * I’m founder and CEO of Silktide …  * I blog… (more)\\n',\n",
       " '\\nKyle Murao,\\nFormer editor of The Elephants in the Room, founder & former editor of The Defense Quorum. I left both to start a new Space on Quora! Go check it out here: The Modern MilHist… (more)\\n ',\n",
       " '\\nRand Fishkin, Founder of SparkToro, ex-Founder/CEO @ Moz\\nFounder of SparkToro. Author. Blogger. Speaker.… (more)\\n',\n",
       " \"\\nJason M. Lemkin, SaaStr & SaaStr Fund; ceo/co-founder @ EchoSign (acq'd by Adobe).\\nJason M. Lemkin started the world’s largest community for SaaS/B2B founders, SaaStr.com, and the world’s largest gathering for them, SaaStr Annual 2018 | The Biggest SaaS… (more)\\n\",\n",
       " '\\nPat Roberts, Top writer: 2013, 2016, 2017, 2018\\nCo-founder and CTO, UltraMedia Innovation… (more)\\n ',\n",
       " '\\nDharmesh Shah, Founder and CTO, HubSpot. Blogger, OnStartups.com\\nFounder, HubSpot.  Blogger at OnStartups.com… (more)\\n',\n",
       " '\\nVaibhav Mallya, Senior Engineer, Developer Infrastructure @ Gusto\\nPast: Founder http://OfferLetter.io . Engineer @ Twitter/Amazon. … Education: University of Michigan … Hobbies: Going out of my way to pet dogs.… (more)\\n ',\n",
       " '\\nGayle Laakmann McDowell, Consultant (tech hiring/interviewing), Author (Cracking the * Interview), Coder\\nGayle Laakmann McDowell is the founder/CEO of CareerCup and the author of Cracking the *interview books (Cracking the Coding Interview, Cracking the PM Interview… (more)\\n ',\n",
       " '\\nSoleio, Combine\\nOnce an early designer at Facebook. Then head of design at Dropbox. Now founder & partner of Combine, a new venture firm. Wonder junkie. Forerunner.… (more)\\n',\n",
       " \"\\nJohn DeMarchi, Have answered over 900 NFL questions on Quora/have attended 11 NFL Drafts.\\nHello - nice to meet YOU here.  Here's me: CEO/Founder of social media and strategy firm Social Czars in the NY-NJ area; honored and blessed to be able to participate… (more)\\n \",\n",
       " \"\\nBram Cohen, Inventor of BitTorrent\\nI'm the inventor of BitTorrent and founder of BitTorrent Inc.  … Since then I've created a p2p live video streaming solution and lately have been working on Bitcoin related… (more)\\n\",\n",
       " '\\nEric Mayefsky, Former Head of Data Science at Quora\\nMarket design PhD → Facebook Ads → co-founder at WeFinance → Quora Advertisements→Head of Data Science at Quora. Game theory, games, puzzle hunts, etc.… (more)\\n',\n",
       " '\\nMircea Goia, Web developer and web consultant. Aspiring filmmaker...\\nWeb developer and web consultant (mirceagoia.com).  … Aspiring filmmaker/advisor at Cinely.com. … Founder of RomanianStartups.com - The Romanian Internet Tech Startups Directory… (more)\\n',\n",
       " '\\nAnne K. Halsall, CPO & co-founder of Winnie\\nCPO & co-founder of Winnie, a knowledge network for parents. Also a mother and lover of cats. … Previously: Postmates, Quora, Inkling, Google.… (more)\\n',\n",
       " '\\nCody Shirk, Explorer, Investor - codyshirk.com\\nCo-founder and partner at Explorer Equity Group. … I write this: Explorer Report. … Right now, I’m most excited about cannabis, longevity, and Asia.… (more)\\n',\n",
       " \"\\nGuy D McCardle, Jr., Quora's Voice of Reason\\nPain is temporary, quitting is forever.\\n\",\n",
       " '\\nVijay Anand, The Startup Guy™ | Founder CEO at The Startup Centre\\nEntrepreneur. Founder CEO at The Startup Centre (company) … You can find me active on Linkedin at http://www.linkedin.com/in/vijayanands and on twitter at @vijayanands… (more)\\n',\n",
       " '\\nTim Berry, Entrepreneur, author, angel investor, business plan expert.\\nFounder and Chairman of Palo Alto Software, founder of bplans.com. Conceptual author of software including LivePlan and Business Plan Pro; latest book published is Lean… (more)\\n',\n",
       " '\\nAvichal Garg, Co-Founder, Spool\\nCurrent life: … Spool - founder, CEO … Past lives: … PrepMe - board member, founder, CTO...… (more)\\n',\n",
       " '\\nVijay Shekhar Sharma, Starter\\nFounder & CEO One97 & Paytm,  … Investor One97 Mobility Fund… (more)\\n',\n",
       " '\\nErnest W. Adams, Game Design Consultant, Author, and Professor\\n. Dr. Adams has developed online, computer, and console games for machines from the IBM 360 mainframe to the present day. He is also the founder and first chairman… (more)\\n',\n",
       " '\\nBen Hamner, Co-founder and CTO of Kaggle\\nCo-founder & CTO Kaggle.  Seeking to understand intelligence.… (more)\\n',\n",
       " '\\nGil Eyal, Founder, HYPR\\nFounder & CEO At www.hyprbrands.com… (more)\\n ',\n",
       " '\\nBret Taylor, President and Chief Product Officer of Salesforce\\nI am currently President and Chief Product Officer of Salesforce. Previously, I was co-founder and CEO of Quip, which was acquired by Salesforce in 2016. … I was formerly… (more)']"
      ]
     },
     "execution_count": 260,
     "metadata": {},
     "output_type": "execute_result"
    }
   ],
   "source": [
    "query_list"
   ]
  },
  {
   "cell_type": "code",
   "execution_count": 269,
   "metadata": {},
   "outputs": [],
   "source": [
    "def get_name_company(query_list):\n",
    "    sample_db = {}\n",
    "    for name in query_list:\n",
    "        name_com = name.replace('\\n', '').split(', ')\n",
    "        if len(name_com) > 1:\n",
    "            sample_db[name_com[0]] = get_company(name_com[1].split(\" \"))\n",
    "    return sample_db"
   ]
  },
  {
   "cell_type": "code",
   "execution_count": 270,
   "metadata": {},
   "outputs": [
    {
     "data": {
      "text/plain": [
       "{' Charlie Cheever': None,\n",
       " 'Anne K. Halsall': None,\n",
       " 'Avichal Garg': None,\n",
       " 'Ben Hamner': None,\n",
       " 'Bram Cohen': None,\n",
       " 'Bret Taylor': None,\n",
       " 'Cody Shirk': None,\n",
       " 'Dave Consiglio': 'Founder of: Consiglio Devastations',\n",
       " 'Dharmesh Shah': 'Founder and CTO',\n",
       " 'Eric Mayefsky': None,\n",
       " 'Ernest W. Adams': None,\n",
       " 'Gayle Laakmann McDowell': None,\n",
       " 'Gil Eyal': 'Founder',\n",
       " 'Guy D McCardle': None,\n",
       " 'Jason M. Lemkin': None,\n",
       " 'John DeMarchi': None,\n",
       " 'Josh Fechter': None,\n",
       " 'Karen Marie Shelton': None,\n",
       " 'Kyle Murao,Former editor of The Elephants in the Room': None,\n",
       " 'Mark Ferguson': 'Founder InvestFourMore',\n",
       " 'Mircea Goia': 'Founder of RomanianStartups.com - ',\n",
       " 'Oliver Emberton': None,\n",
       " 'Pat Roberts': None,\n",
       " 'Rand Fishkin': 'Founder of SparkToro',\n",
       " 'Soleio': None,\n",
       " 'Tim Berry': None,\n",
       " 'Vaibhav Mallya': None,\n",
       " 'Vijay Anand': 'Founder CEO at The Startup CentreE',\n",
       " 'Vijay Shekhar Sharma': None}"
      ]
     },
     "execution_count": 270,
     "metadata": {},
     "output_type": "execute_result"
    }
   ],
   "source": [
    "get_name_company(query_list)"
   ]
  },
  {
   "cell_type": "code",
   "execution_count": null,
   "metadata": {},
   "outputs": [],
   "source": []
  },
  {
   "cell_type": "code",
   "execution_count": null,
   "metadata": {},
   "outputs": [],
   "source": []
  },
  {
   "cell_type": "markdown",
   "metadata": {},
   "source": [
    "# infinite scrolling"
   ]
  },
  {
   "cell_type": "code",
   "execution_count": null,
   "metadata": {},
   "outputs": [],
   "source": [
    "driver.find_element_by_link_text(\"All\").click()\n",
    "for i in range(1,100):\n",
    "    self.driver.execute_script(\"window.scrollTo(0, document.body.scrollHeight);\")\n",
    "    time.sleep(4)\n",
    "html_source = driver.page_source\n",
    "data = html_source.encode('utf-8')"
   ]
  },
  {
   "cell_type": "code",
   "execution_count": null,
   "metadata": {},
   "outputs": [],
   "source": []
  },
  {
   "cell_type": "code",
   "execution_count": null,
   "metadata": {},
   "outputs": [],
   "source": []
  },
  {
   "cell_type": "code",
   "execution_count": null,
   "metadata": {},
   "outputs": [],
   "source": []
  },
  {
   "cell_type": "code",
   "execution_count": null,
   "metadata": {},
   "outputs": [],
   "source": [
    "# driver.quit()"
   ]
  },
  {
   "cell_type": "code",
   "execution_count": null,
   "metadata": {},
   "outputs": [],
   "source": []
  }
 ],
 "metadata": {
  "kernelspec": {
   "display_name": "Python 3",
   "language": "python",
   "name": "python3"
  },
  "language_info": {
   "codemirror_mode": {
    "name": "ipython",
    "version": 3
   },
   "file_extension": ".py",
   "mimetype": "text/x-python",
   "name": "python",
   "nbconvert_exporter": "python",
   "pygments_lexer": "ipython3",
   "version": "3.6.8"
  }
 },
 "nbformat": 4,
 "nbformat_minor": 2
}
