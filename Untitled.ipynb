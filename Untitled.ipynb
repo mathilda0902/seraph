{
 "cells": [
  {
   "cell_type": "code",
   "execution_count": 3,
   "metadata": {},
   "outputs": [],
   "source": [
    "import requests"
   ]
  },
  {
   "cell_type": "code",
   "execution_count": 4,
   "metadata": {},
   "outputs": [],
   "source": [
    "# headers = {\n",
    "#     'Content-Type': 'application/json'\n",
    "# }\n",
    "\n",
    "data = {\n",
    "    'response_type': 'code',\n",
    "    'client_id': '86zqk45qzsa20f',\n",
    "    'redirect_uri': 'https://www.example.com/auth/linkedin',\n",
    "    'scope': 'r_liteprofile%20r_emailaddress%20w_member_social'\n",
    "}"
   ]
  },
  {
   "cell_type": "code",
   "execution_count": 5,
   "metadata": {},
   "outputs": [],
   "source": [
    "r = requests.get('https://www.linkedin.com/oauth/v2/authorization', data=data)"
   ]
  },
  {
   "cell_type": "code",
   "execution_count": 6,
   "metadata": {},
   "outputs": [
    {
     "name": "stdout",
     "output_type": "stream",
     "text": [
      "<!DOCTYPE html><html class=\"os-other\" lang=\"en-US\"><head><meta http-equiv=\"content-type\" content=\"text/html; charset=UTF-8\"><meta http-equiv=\"X-UA-Compatible\" content=\"IE=edge\"><meta name=\"viewport\" content=\"width=device-width, initial-scale=1\"><meta name=\"pageKey\" content=\"oauth-authorization\"><meta name=\"asset-url\" id=\"artdeco/static/images/icons.svg\" content=\"https://static.licdn.com/sc/p/com.linkedin.oauth-fe%3Aoauth-fe-static-content%2B0.1.651/f/%2Foauth-frontend%2Fartdeco%2Fstatic%2Fimages%2Ficons.svg\"><meta name=\"asset-url\" id=\"artdeco/static/fonts/fonts64.css\" content=\"https://static.licdn.com/sc/p/com.linkedin.oauth-fe%3Aoauth-fe-static-content%2B0.1.651/f/%2Foauth-frontend%2Fartdeco%2Fstatic%2Ffonts%2Ffonts64.css\"><link rel=\"icon\" href=\"https://static.licdn.com/sc/h/3m4lyvbs6efg8pyhv7kupo6dh\"><title>Authorize | LinkedIn</title><link rel=\"stylesheet\" href=\"https://static.licdn.com/sc/p/com.linkedin.oauth-fe%3Aoauth-fe-static-content%2B0.1.651/f/%2Foauth-frontend%2Fstylesheets%2Foauth.css\"></head><body  ><div class=\"wrapper\"><div class=\"header\"><h1 class=\"header__logo\">LinkedIn</h1></div><div class=\"canvas\"><div class=\"alert-error\" role=\"alert\"><div class=\"wrapper\"><p class=\"message\">You need to pass the &quot;client_id&quot; parameter</p></div></div></div></div><script src=\"https://static.licdn.com:443/scds/common/u/lib/fizzy/fz-1.3.8-min.js\" type=\"text/javascript\"></script><script type=\"text/javascript\">fs.config({\"failureRedirect\":\"http://www.linkedin.com/\",\"uniEscape\":true,\"xhrHeaders\":{\"X-FS-Origin-Request\":\"/oauth/v2/authorization\",\"X-FS-Page-Id\":\"oauth-authorization\"}});</script><script src=\"https://static.licdn.com/sc/p/com.linkedin.oauth-fe%3Aoauth-fe-static-content%2B0.1.651/f/%2Foauth-frontend%2Fjavascripts%2Foauth.min.js\"></script><script src=\"https://static.licdn.com/sc/p/com.linkedin.oauth-fe%3Aoauth-fe-static-content%2B0.1.651/f/%2Foauth-frontend%2Fartdeco%2Fstatic%2Fjavascripts%2Fartdeco.js\" async></script></body></html>\n"
     ]
    }
   ],
   "source": [
    "print(r.text)"
   ]
  },
  {
   "cell_type": "code",
   "execution_count": null,
   "metadata": {},
   "outputs": [],
   "source": [
    "r = requests.get('https://www.linkedin.com/oauth/v2/authorization?response_type=code&client_id=86zqk45qzsa20f&redirect_uri=https%3A%2F%2Fwww.example.com%2Fauth%2Flinkedin&scope=r_liteprofile%20r_emailaddress%20w_member_social')\n",
    "\n"
   ]
  },
  {
   "cell_type": "code",
   "execution_count": null,
   "metadata": {},
   "outputs": [],
   "source": [
    "headers = {\n",
    "    'Content-Type': 'application/x-www-form-urlencoded',\n",
    "}\n",
    "\n",
    "data = {\n",
    "  'grant_type': 'client_credentials',\n",
    "  'client_id': '86zqk45qzsa20f',\n",
    "  'client_secret': 'BJZHn9zhg4ZiOVp0'\n",
    "}\n",
    "\n",
    "response = requests.post('https://www.linkedin.com/oauth/v2/accessToken', headers=headers, data=data)\n"
   ]
  },
  {
   "cell_type": "code",
   "execution_count": null,
   "metadata": {},
   "outputs": [],
   "source": [
    "response.text"
   ]
  },
  {
   "cell_type": "code",
   "execution_count": null,
   "metadata": {},
   "outputs": [],
   "source": [
    "from time import time,sleep\n",
    "from random import randint\n",
    "from IPython.core.display import clear_output\n",
    "from requests import get\n",
    "from bs4 import BeautifulSoup\n",
    "import matplotlib.pyplot as plt\n",
    "import pandas as pd"
   ]
  },
  {
   "cell_type": "code",
   "execution_count": null,
   "metadata": {},
   "outputs": [],
   "source": [
    "url = 'https://angel.co/'"
   ]
  },
  {
   "cell_type": "code",
   "execution_count": null,
   "metadata": {},
   "outputs": [],
   "source": [
    "resp = requests.get(url)"
   ]
  },
  {
   "cell_type": "code",
   "execution_count": null,
   "metadata": {},
   "outputs": [],
   "source": []
  },
  {
   "cell_type": "code",
   "execution_count": null,
   "metadata": {},
   "outputs": [],
   "source": [
    "import requests\n",
    "from bs4 import BeautifulSoup\n",
    "\n",
    "\n",
    "\n",
    "js = \"https://angel.co/company_filters/search_data\"\n",
    "\n",
    "headers = {\"X-Requested-With\": \"XMLHttpRequest\",\n",
    "           \"User-Agent\": \"Mozilla/5.0 (X11; Linux x86_64) AppleWebKit/537.36 (KHTML, like Gecko) Chrome/50.0.2661.75 Safari/537.36\"}\n"
   ]
  },
  {
   "cell_type": "code",
   "execution_count": null,
   "metadata": {},
   "outputs": [],
   "source": [
    "u = \"https://angel.co/companies/startups?ids%5B%5D={}&total={}&page={}&sort=signal&new=false&hexdigest={}\"\n",
    "    "
   ]
  },
  {
   "cell_type": "code",
   "execution_count": null,
   "metadata": {},
   "outputs": [],
   "source": [
    "with requests.Session() as s:\n",
    "    params = s.post(js, data={\"sort\": \"signal\"}, headers=headers)\n",
    "#     .json()\n",
    "#     companies = s.get(u.format(\"&ids%5B%5D=\".join(map(str, params[\"ids\"])),params[\"page\"] ,params[\"total\"], params[\"hexdigest\"]), headers=headers)\n",
    "#     soup s= BeautifulSoup(companies.json()[\"html\"])\n"
   ]
  },
  {
   "cell_type": "markdown",
   "metadata": {},
   "source": [
    "# talent api"
   ]
  },
  {
   "cell_type": "code",
   "execution_count": null,
   "metadata": {},
   "outputs": [],
   "source": [
    "from google.cloud import talent_v4beta1\n",
    "import six\n",
    "\n",
    "\n",
    "def sample_create_company(project_id, tenant_id, display_name, external_id):\n",
    "    \"\"\"Create Company\"\"\"\n",
    "\n",
    "    client = talent_v4beta1.CompanyServiceClient()\n",
    "\n",
    "    # project_id = 'Your Google Cloud Project ID'\n",
    "    # tenant_id = 'Your Tenant ID (using tenancy is optional)'\n",
    "    # display_name = 'My Company Name'\n",
    "    # external_id = 'Identifier of this company in my system'\n",
    "\n",
    "    if isinstance(project_id, six.binary_type):\n",
    "        project_id = project_id.decode('utf-8')\n",
    "    if isinstance(tenant_id, six.binary_type):\n",
    "        tenant_id = tenant_id.decode('utf-8')\n",
    "    if isinstance(display_name, six.binary_type):\n",
    "        display_name = display_name.decode('utf-8')\n",
    "    if isinstance(external_id, six.binary_type):\n",
    "        external_id = external_id.decode('utf-8')\n",
    "    parent = client.tenant_path(project_id, tenant_id)\n",
    "    company = {'display_name': display_name, 'external_id': external_id}\n",
    "\n",
    "    response = client.create_company(parent, company)\n",
    "    print('Created Company')\n",
    "    print('Name: {}'.format(response.name))\n",
    "    print('Display Name: {}'.format(response.display_name))\n",
    "    print('External ID: {}'.format(response.external_id))\n"
   ]
  },
  {
   "cell_type": "code",
   "execution_count": 1,
   "metadata": {},
   "outputs": [
    {
     "ename": "ImportError",
     "evalue": "cannot import name 'talent_v4beta1'",
     "output_type": "error",
     "traceback": [
      "\u001b[0;31m---------------------------------------------------------------------------\u001b[0m",
      "\u001b[0;31mImportError\u001b[0m                               Traceback (most recent call last)",
      "\u001b[0;32m<ipython-input-1-e207a73c6ce8>\u001b[0m in \u001b[0;36m<module>\u001b[0;34m()\u001b[0m\n\u001b[0;32m----> 1\u001b[0;31m \u001b[0;32mfrom\u001b[0m \u001b[0mgoogle\u001b[0m\u001b[0;34m.\u001b[0m\u001b[0mcloud\u001b[0m \u001b[0;32mimport\u001b[0m \u001b[0mtalent_v4beta1\u001b[0m\u001b[0;34m\u001b[0m\u001b[0;34m\u001b[0m\u001b[0m\n\u001b[0m",
      "\u001b[0;31mImportError\u001b[0m: cannot import name 'talent_v4beta1'"
     ]
    }
   ],
   "source": [
    "from google.cloud import talent_v4beta1"
   ]
  },
  {
   "cell_type": "code",
   "execution_count": 2,
   "metadata": {},
   "outputs": [
    {
     "ename": "ModuleNotFoundError",
     "evalue": "No module named 'google.cloud.talent_v4beta1'",
     "output_type": "error",
     "traceback": [
      "\u001b[0;31m---------------------------------------------------------------------------\u001b[0m",
      "\u001b[0;31mModuleNotFoundError\u001b[0m                       Traceback (most recent call last)",
      "\u001b[0;32m<ipython-input-2-5e757dbc4074>\u001b[0m in \u001b[0;36m<module>\u001b[0;34m()\u001b[0m\n\u001b[0;32m----> 1\u001b[0;31m \u001b[0;32mfrom\u001b[0m \u001b[0mgoogle\u001b[0m\u001b[0;34m.\u001b[0m\u001b[0mcloud\u001b[0m\u001b[0;34m.\u001b[0m\u001b[0mtalent_v4beta1\u001b[0m \u001b[0;32mimport\u001b[0m \u001b[0mtypes\u001b[0m\u001b[0;34m\u001b[0m\u001b[0;34m\u001b[0m\u001b[0m\n\u001b[0m",
      "\u001b[0;31mModuleNotFoundError\u001b[0m: No module named 'google.cloud.talent_v4beta1'"
     ]
    }
   ],
   "source": [
    "from google.cloud.talent_v4beta1 import types"
   ]
  },
  {
   "cell_type": "code",
   "execution_count": null,
   "metadata": {},
   "outputs": [],
   "source": [
    "import six"
   ]
  },
  {
   "cell_type": "code",
   "execution_count": null,
   "metadata": {},
   "outputs": [],
   "source": [
    "six.binary_type"
   ]
  },
  {
   "cell_type": "code",
   "execution_count": null,
   "metadata": {},
   "outputs": [],
   "source": []
  }
 ],
 "metadata": {
  "kernelspec": {
   "display_name": "Python 3",
   "language": "python",
   "name": "python3"
  },
  "language_info": {
   "codemirror_mode": {
    "name": "ipython",
    "version": 3
   },
   "file_extension": ".py",
   "mimetype": "text/x-python",
   "name": "python",
   "nbconvert_exporter": "python",
   "pygments_lexer": "ipython3",
   "version": "3.6.8"
  }
 },
 "nbformat": 4,
 "nbformat_minor": 2
}
